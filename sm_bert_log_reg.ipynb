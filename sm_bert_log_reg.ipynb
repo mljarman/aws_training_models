{
 "cells": [
  {
   "cell_type": "markdown",
   "metadata": {},
   "source": [
    "## Logistic Regression with small Bert encodings"
   ]
  },
  {
   "cell_type": "code",
   "execution_count": 10,
   "metadata": {},
   "outputs": [],
   "source": [
    "import numpy as np\n",
    "import pandas as pd\n",
    "# for model:\n",
    "from sklearn.model_selection import GridSearchCV\n",
    "from sklearn.linear_model import LogisticRegression\n",
    "from sklearn.pipeline import make_pipeline\n",
    "from sklearn.multiclass import OneVsRestClassifier\n",
    "from sklearn.model_selection import train_test_split\n",
    "# for scoring:\n",
    "from sklearn import metrics\n",
    "from sklearn.metrics import f1_score"
   ]
  },
  {
   "cell_type": "code",
   "execution_count": 6,
   "metadata": {},
   "outputs": [],
   "source": [
    "# requires toxic-tr\n",
    "x = np.loadtxt(\"toxic_bert_matrix_small.out\", delimiter=\",\")\n",
    "df = pd.read_csv('toxic-train-clean-small.csv')\n",
    "y = df.iloc[:, 2:8]"
   ]
  },
  {
   "cell_type": "code",
   "execution_count": 7,
   "metadata": {},
   "outputs": [],
   "source": [
    "X_train, X_test, y_train, y_test = train_test_split(x, y, test_size= 0.2)"
   ]
  },
  {
   "cell_type": "code",
   "execution_count": 8,
   "metadata": {},
   "outputs": [
    {
     "data": {
      "text/plain": [
       "((104228, 768), (26057, 768), (104228, 6), (26057, 6))"
      ]
     },
     "execution_count": 8,
     "metadata": {},
     "output_type": "execute_result"
    }
   ],
   "source": [
    "X_train.shape, X_test.shape, y_train.shape, y_test.shape"
   ]
  },
  {
   "cell_type": "code",
   "execution_count": 11,
   "metadata": {},
   "outputs": [
    {
     "name": "stdout",
     "output_type": "stream",
     "text": [
      "Fitting 15 folds for each of 1 candidates, totalling 15 fits\n",
      "[CV] onevsrestclassifier__estimator__solver=liblinear ................\n"
     ]
    },
    {
     "name": "stderr",
     "output_type": "stream",
     "text": [
      "[Parallel(n_jobs=1)]: Using backend SequentialBackend with 1 concurrent workers.\n"
     ]
    },
    {
     "name": "stdout",
     "output_type": "stream",
     "text": [
      "[CV]  onevsrestclassifier__estimator__solver=liblinear, score=0.965928775955896, total= 9.0min\n",
      "[CV] onevsrestclassifier__estimator__solver=liblinear ................\n"
     ]
    },
    {
     "name": "stderr",
     "output_type": "stream",
     "text": [
      "[Parallel(n_jobs=1)]: Done   1 out of   1 | elapsed:  9.0min remaining:    0.0s\n"
     ]
    },
    {
     "name": "stdout",
     "output_type": "stream",
     "text": [
      "[CV]  onevsrestclassifier__estimator__solver=liblinear, score=0.9640330644403972, total= 9.6min\n",
      "[CV] onevsrestclassifier__estimator__solver=liblinear ................\n"
     ]
    },
    {
     "name": "stderr",
     "output_type": "stream",
     "text": [
      "[Parallel(n_jobs=1)]: Done   2 out of   2 | elapsed: 18.6min remaining:    0.0s\n"
     ]
    },
    {
     "name": "stdout",
     "output_type": "stream",
     "text": [
      "[CV]  onevsrestclassifier__estimator__solver=liblinear, score=0.972971500795251, total= 9.0min\n",
      "[CV] onevsrestclassifier__estimator__solver=liblinear ................\n",
      "[CV]  onevsrestclassifier__estimator__solver=liblinear, score=0.9671562314378462, total= 9.5min\n",
      "[CV] onevsrestclassifier__estimator__solver=liblinear ................\n",
      "[CV]  onevsrestclassifier__estimator__solver=liblinear, score=0.9740035855615091, total= 9.2min\n",
      "[CV] onevsrestclassifier__estimator__solver=liblinear ................\n",
      "[CV]  onevsrestclassifier__estimator__solver=liblinear, score=0.9715891400171431, total= 9.3min\n",
      "[CV] onevsrestclassifier__estimator__solver=liblinear ................\n",
      "[CV]  onevsrestclassifier__estimator__solver=liblinear, score=0.9718038045121776, total= 9.1min\n",
      "[CV] onevsrestclassifier__estimator__solver=liblinear ................\n",
      "[CV]  onevsrestclassifier__estimator__solver=liblinear, score=0.9675409509086439, total= 9.2min\n",
      "[CV] onevsrestclassifier__estimator__solver=liblinear ................\n",
      "[CV]  onevsrestclassifier__estimator__solver=liblinear, score=0.964311517209605, total= 9.1min\n",
      "[CV] onevsrestclassifier__estimator__solver=liblinear ................\n",
      "[CV]  onevsrestclassifier__estimator__solver=liblinear, score=0.9720367322491459, total= 8.8min\n",
      "[CV] onevsrestclassifier__estimator__solver=liblinear ................\n",
      "[CV]  onevsrestclassifier__estimator__solver=liblinear, score=0.9663168420479352, total= 9.2min\n",
      "[CV] onevsrestclassifier__estimator__solver=liblinear ................\n",
      "[CV]  onevsrestclassifier__estimator__solver=liblinear, score=0.9747626746189085, total= 9.2min\n",
      "[CV] onevsrestclassifier__estimator__solver=liblinear ................\n",
      "[CV]  onevsrestclassifier__estimator__solver=liblinear, score=0.9727878858500877, total= 9.2min\n",
      "[CV] onevsrestclassifier__estimator__solver=liblinear ................\n",
      "[CV]  onevsrestclassifier__estimator__solver=liblinear, score=0.9647694548460121, total= 9.2min\n",
      "[CV] onevsrestclassifier__estimator__solver=liblinear ................\n",
      "[CV]  onevsrestclassifier__estimator__solver=liblinear, score=0.9749223111603698, total= 9.3min\n"
     ]
    },
    {
     "name": "stderr",
     "output_type": "stream",
     "text": [
      "[Parallel(n_jobs=1)]: Done  15 out of  15 | elapsed: 137.9min finished\n"
     ]
    }
   ],
   "source": [
    "pipe = make_pipeline(OneVsRestClassifier(LogisticRegression(max_iter=500, class_weight='balanced')))\n",
    "param_grid = {'onevsrestclassifier__estimator__solver': ['liblinear']} \n",
    "grid = GridSearchCV(pipe, param_grid, cv=15, scoring='roc_auc', verbose=3)\n",
    "\n",
    "grid3 = grid.fit(X_train, y_train)"
   ]
  },
  {
   "cell_type": "code",
   "execution_count": 12,
   "metadata": {},
   "outputs": [
    {
     "data": {
      "text/plain": [
       "0.9696622763154467"
      ]
     },
     "execution_count": 12,
     "metadata": {},
     "output_type": "execute_result"
    }
   ],
   "source": [
    "grid3.best_score_"
   ]
  },
  {
   "cell_type": "code",
   "execution_count": 13,
   "metadata": {},
   "outputs": [
    {
     "data": {
      "text/plain": [
       "array([[1, 1, 1, 1, 1, 1]])"
      ]
     },
     "execution_count": 13,
     "metadata": {},
     "output_type": "execute_result"
    }
   ],
   "source": [
    "predicted_y_test = grid3.predict(X_test)\n",
    "predicted_y_test[:1]"
   ]
  },
  {
   "cell_type": "code",
   "execution_count": 15,
   "metadata": {},
   "outputs": [
    {
     "data": {
      "text/plain": [
       "array([[0.99925066, 0.9966995 , 0.998688  , 0.99977871, 0.99852208,\n",
       "        0.89831415]])"
      ]
     },
     "execution_count": 15,
     "metadata": {},
     "output_type": "execute_result"
    }
   ],
   "source": [
    "y_pred_prob = grid3.predict_proba(X_test)\n",
    "y_pred_prob[:1]"
   ]
  },
  {
   "cell_type": "code",
   "execution_count": 16,
   "metadata": {},
   "outputs": [
    {
     "data": {
      "text/plain": [
       "0.9705530315442147"
      ]
     },
     "execution_count": 16,
     "metadata": {},
     "output_type": "execute_result"
    }
   ],
   "source": [
    "auc_score = metrics.roc_auc_score(y_test, y_pred_prob)\n",
    "auc_score"
   ]
  },
  {
   "cell_type": "code",
   "execution_count": 17,
   "metadata": {},
   "outputs": [
    {
     "data": {
      "text/plain": [
       "0.510601273068645"
      ]
     },
     "execution_count": 17,
     "metadata": {},
     "output_type": "execute_result"
    }
   ],
   "source": [
    "f1_score(y_test, predicted_y_test, average='micro')"
   ]
  },
  {
   "cell_type": "code",
   "execution_count": null,
   "metadata": {},
   "outputs": [],
   "source": []
  }
 ],
 "metadata": {
  "kernelspec": {
   "display_name": "conda_python3",
   "language": "python",
   "name": "conda_python3"
  },
  "language_info": {
   "codemirror_mode": {
    "name": "ipython",
    "version": 3
   },
   "file_extension": ".py",
   "mimetype": "text/x-python",
   "name": "python",
   "nbconvert_exporter": "python",
   "pygments_lexer": "ipython3",
   "version": "3.6.5"
  }
 },
 "nbformat": 4,
 "nbformat_minor": 4
}
