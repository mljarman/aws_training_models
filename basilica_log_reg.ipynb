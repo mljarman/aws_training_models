{
 "cells": [
  {
   "cell_type": "markdown",
   "metadata": {},
   "source": [
    "## Logistic Regression with Basilica encodings"
   ]
  },
  {
   "cell_type": "code",
   "execution_count": 1,
   "metadata": {},
   "outputs": [],
   "source": [
    "import numpy as np\n",
    "import pandas as pd\n",
    "# for model:\n",
    "from sklearn.model_selection import GridSearchCV\n",
    "from sklearn.linear_model import LogisticRegression\n",
    "from sklearn.pipeline import make_pipeline\n",
    "from sklearn.multiclass import OneVsRestClassifier\n",
    "from sklearn.model_selection import train_test_split\n",
    "# for scoring:\n",
    "from sklearn import metrics\n",
    "from sklearn.metrics import f1_score"
   ]
  },
  {
   "cell_type": "code",
   "execution_count": 2,
   "metadata": {},
   "outputs": [],
   "source": [
    "# need to use the basilica_y for the y matrix, the basilica embeddings are 1 row short\n",
    "# of toxic-clean-train.csv.\n",
    "x = np.loadtxt(\"basilica_toxic_clean.out\", delimiter=\",\")\n",
    "y = pd.read_csv('basilica_y.csv')"
   ]
  },
  {
   "cell_type": "code",
   "execution_count": 3,
   "metadata": {},
   "outputs": [],
   "source": [
    "X_train, X_test, y_train, y_test = train_test_split(x, y, test_size= 0.2)"
   ]
  },
  {
   "cell_type": "code",
   "execution_count": 4,
   "metadata": {},
   "outputs": [
    {
     "data": {
      "text/plain": [
       "((127656, 768), (31914, 768), (127656, 6), (31914, 6))"
      ]
     },
     "execution_count": 4,
     "metadata": {},
     "output_type": "execute_result"
    }
   ],
   "source": [
    "X_train.shape, X_test.shape, y_train.shape, y_test.shape"
   ]
  },
  {
   "cell_type": "code",
   "execution_count": 8,
   "metadata": {},
   "outputs": [
    {
     "name": "stdout",
     "output_type": "stream",
     "text": [
      "Fitting 10 folds for each of 1 candidates, totalling 10 fits\n",
      "[CV] onevsrestclassifier__estimator__solver=liblinear ................\n"
     ]
    },
    {
     "name": "stderr",
     "output_type": "stream",
     "text": [
      "[Parallel(n_jobs=1)]: Using backend SequentialBackend with 1 concurrent workers.\n"
     ]
    },
    {
     "name": "stdout",
     "output_type": "stream",
     "text": [
      "[CV]  onevsrestclassifier__estimator__solver=liblinear, score=0.9712276148352349, total=12.3min\n",
      "[CV] onevsrestclassifier__estimator__solver=liblinear ................\n"
     ]
    },
    {
     "name": "stderr",
     "output_type": "stream",
     "text": [
      "[Parallel(n_jobs=1)]: Done   1 out of   1 | elapsed: 12.3min remaining:    0.0s\n"
     ]
    },
    {
     "name": "stdout",
     "output_type": "stream",
     "text": [
      "[CV]  onevsrestclassifier__estimator__solver=liblinear, score=0.9661021707631203, total=13.4min\n",
      "[CV] onevsrestclassifier__estimator__solver=liblinear ................\n"
     ]
    },
    {
     "name": "stderr",
     "output_type": "stream",
     "text": [
      "[Parallel(n_jobs=1)]: Done   2 out of   2 | elapsed: 25.8min remaining:    0.0s\n"
     ]
    },
    {
     "name": "stdout",
     "output_type": "stream",
     "text": [
      "[CV]  onevsrestclassifier__estimator__solver=liblinear, score=0.9702816669865174, total=15.9min\n",
      "[CV] onevsrestclassifier__estimator__solver=liblinear ................\n",
      "[CV]  onevsrestclassifier__estimator__solver=liblinear, score=0.9731819187687122, total=16.0min\n",
      "[CV] onevsrestclassifier__estimator__solver=liblinear ................\n",
      "[CV]  onevsrestclassifier__estimator__solver=liblinear, score=0.9623188787950818, total=15.7min\n",
      "[CV] onevsrestclassifier__estimator__solver=liblinear ................\n",
      "[CV]  onevsrestclassifier__estimator__solver=liblinear, score=0.9664180464261439, total=15.5min\n",
      "[CV] onevsrestclassifier__estimator__solver=liblinear ................\n",
      "[CV]  onevsrestclassifier__estimator__solver=liblinear, score=0.9671031762233154, total=14.7min\n",
      "[CV] onevsrestclassifier__estimator__solver=liblinear ................\n",
      "[CV]  onevsrestclassifier__estimator__solver=liblinear, score=0.9782493832741258, total=14.7min\n",
      "[CV] onevsrestclassifier__estimator__solver=liblinear ................\n",
      "[CV]  onevsrestclassifier__estimator__solver=liblinear, score=0.9722818871940765, total=15.4min\n",
      "[CV] onevsrestclassifier__estimator__solver=liblinear ................\n",
      "[CV]  onevsrestclassifier__estimator__solver=liblinear, score=0.9657915203979348, total=16.5min\n"
     ]
    },
    {
     "name": "stderr",
     "output_type": "stream",
     "text": [
      "[Parallel(n_jobs=1)]: Done  10 out of  10 | elapsed: 150.3min finished\n"
     ]
    }
   ],
   "source": [
    "# onevsrest so using liblinear, sag results in convergence errors.\n",
    "pipe = make_pipeline(OneVsRestClassifier(LogisticRegression(max_iter=500, class_weight='balanced')))\n",
    "param_grid = {'onevsrestclassifier__estimator__solver': ['liblinear']} \n",
    "grid = GridSearchCV(pipe, param_grid, cv=10, scoring='roc_auc', verbose=3)\n",
    "\n",
    "grid2 = grid.fit(X_train, y_train)"
   ]
  },
  {
   "cell_type": "code",
   "execution_count": 9,
   "metadata": {},
   "outputs": [
    {
     "data": {
      "text/plain": [
       "array([[0, 0, 0, 0, 0, 0]])"
      ]
     },
     "execution_count": 9,
     "metadata": {},
     "output_type": "execute_result"
    }
   ],
   "source": [
    "predicted_y_test = grid2.predict(X_test)\n",
    "predicted_y_test[:1]"
   ]
  },
  {
   "cell_type": "code",
   "execution_count": 10,
   "metadata": {},
   "outputs": [
    {
     "data": {
      "text/plain": [
       "array([[1.12143511e-02, 3.82834865e-06, 4.01889150e-03, 1.91071221e-07,\n",
       "        2.44666439e-02, 7.75593665e-03]])"
      ]
     },
     "execution_count": 10,
     "metadata": {},
     "output_type": "execute_result"
    }
   ],
   "source": [
    "y_pred_prob = grid2.predict_proba(X_test)\n",
    "y_pred_prob[:1]"
   ]
  },
  {
   "cell_type": "code",
   "execution_count": 11,
   "metadata": {},
   "outputs": [
    {
     "data": {
      "text/plain": [
       "0.9727434677199321"
      ]
     },
     "execution_count": 11,
     "metadata": {},
     "output_type": "execute_result"
    }
   ],
   "source": [
    "auc_score = metrics.roc_auc_score(y_test, y_pred_prob)\n",
    "auc_score"
   ]
  },
  {
   "cell_type": "code",
   "execution_count": 12,
   "metadata": {},
   "outputs": [
    {
     "data": {
      "text/plain": [
       "0.5416098226466576"
      ]
     },
     "execution_count": 12,
     "metadata": {},
     "output_type": "execute_result"
    }
   ],
   "source": [
    "f1_score(y_test, predicted_y_test, average='micro')"
   ]
  },
  {
   "cell_type": "code",
   "execution_count": null,
   "metadata": {},
   "outputs": [],
   "source": []
  }
 ],
 "metadata": {
  "kernelspec": {
   "display_name": "conda_python3",
   "language": "python",
   "name": "conda_python3"
  },
  "language_info": {
   "codemirror_mode": {
    "name": "ipython",
    "version": 3
   },
   "file_extension": ".py",
   "mimetype": "text/x-python",
   "name": "python",
   "nbconvert_exporter": "python",
   "pygments_lexer": "ipython3",
   "version": "3.6.5"
  }
 },
 "nbformat": 4,
 "nbformat_minor": 4
}
